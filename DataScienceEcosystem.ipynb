{
 "cells": [
  {
   "cell_type": "markdown",
   "id": "167081d2-0050-4182-b4be-e029b1cc5435",
   "metadata": {},
   "source": [
    "# Data Science Tools and Ecosystem"
   ]
  },
  {
   "cell_type": "markdown",
   "id": "a3584db5-34f1-4c5f-835f-62439385d89e",
   "metadata": {},
   "source": [
    "In this notebook, Data Science Tools and Ecosystem are summarized"
   ]
  },
  {
   "cell_type": "markdown",
   "id": "a54a8fcd-7d05-4081-8156-8e9fd880a8a2",
   "metadata": {},
   "source": [
    "**Objectives**\n",
    "- Popular Languages for Data Scientists\n",
    "- Common Libraries For Data Scientists\n",
    "- Data Science Tools used by Data Scientists\n",
    "- Different Arithmetic Expressions"
   ]
  },
  {
   "cell_type": "markdown",
   "id": "0eca8074-adfe-4fdb-be61-0d462af5bcc0",
   "metadata": {},
   "source": [
    "Some of the popular languages that Data Scientists use are:\n",
    "1. Python \n",
    "1. R \n",
    "1. SQL\n",
    "1. JavaScript\n",
    "1. Scala"
   ]
  },
  {
   "cell_type": "markdown",
   "id": "65987100-9e71-48f5-be48-3dabbefe0c99",
   "metadata": {},
   "source": [
    "Some of the commonly used libraries used by Data Scientists include:\n",
    "1. TensorFlow\n",
    "1. SciKit-learn\n",
    "1. NumPy\n",
    "1. Pandas\n",
    "1. PyTorch"
   ]
  },
  {
   "cell_type": "markdown",
   "id": "cdeb3780-bfc5-4523-8269-1125cd396548",
   "metadata": {},
   "source": [
    "| Data Science Tools|\n",
    "|---|\n",
    "| RStudio |\n",
    "|---|\n",
    "| Apache Spark |\n",
    "|---|\n",
    "| Apache Hadoop |"
   ]
  },
  {
   "cell_type": "markdown",
   "id": "76bebce8-c320-4cd9-9090-58715077f571",
   "metadata": {},
   "source": [
    "### Below are a few examples of evaluating arithmetic expressions in Python"
   ]
  },
  {
   "cell_type": "code",
   "execution_count": 2,
   "id": "1953c2dc-7932-4c5d-8a84-5809e665df10",
   "metadata": {},
   "outputs": [
    {
     "data": {
      "text/plain": [
       "17"
      ]
     },
     "execution_count": 2,
     "metadata": {},
     "output_type": "execute_result"
    }
   ],
   "source": [
    "#This is a simple arithmetic expression to multiply then add integers\n",
    "\n",
    "(3*4)+5"
   ]
  },
  {
   "cell_type": "code",
   "execution_count": 3,
   "id": "2acc794f-66ab-4527-8369-c4d4b38ad22c",
   "metadata": {},
   "outputs": [
    {
     "data": {
      "text/plain": [
       "3.3333333333333335"
      ]
     },
     "execution_count": 3,
     "metadata": {},
     "output_type": "execute_result"
    }
   ],
   "source": [
    "#This will convert 200 minutes to hours by dividing by 60\n",
    "\n",
    "200/60"
   ]
  },
  {
   "cell_type": "markdown",
   "id": "42f64bb8-d081-42ea-b316-cabe15343ceb",
   "metadata": {},
   "source": [
    "## Author\n",
    "Kevin Taft"
   ]
  },
  {
   "cell_type": "code",
   "execution_count": null,
   "id": "0065193f-c715-4736-af58-e8235a512855",
   "metadata": {},
   "outputs": [],
   "source": []
  }
 ],
 "metadata": {
  "kernelspec": {
   "display_name": "Python",
   "language": "python",
   "name": "conda-env-python-py"
  },
  "language_info": {
   "codemirror_mode": {
    "name": "ipython",
    "version": 3
   },
   "file_extension": ".py",
   "mimetype": "text/x-python",
   "name": "python",
   "nbconvert_exporter": "python",
   "pygments_lexer": "ipython3",
   "version": "3.7.12"
  }
 },
 "nbformat": 4,
 "nbformat_minor": 5
}
